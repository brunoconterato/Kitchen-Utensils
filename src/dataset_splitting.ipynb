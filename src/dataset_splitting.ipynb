{
 "cells": [
  {
   "cell_type": "markdown",
   "metadata": {},
   "source": [
    "# Script de Inspeção e Separação de Imagens\n",
    "\n",
    "#### Objetivos\n",
    "- Inspeção de imagens: \n",
    "  - Verificação de classes\n",
    "  - Contagem de elementos das classes\n",
    "  - Tradução dos nomes das classes para português brasileiro\n",
    "  - Visualização de elemtnos das classes\n",
    "- Separação de imagens em treino e teste\n",
    "  - Separação por classe em 80% treino e 20% teste\n",
    "  - Cópia das imagens para diretórios de treino e teste separados para facilitar upload no Teachable Machine\n",
    "  - Resumo final sobre as classes selecionadas e suas respectivas quantidades de imagens"
   ]
  },
  {
   "cell_type": "code",
   "execution_count": 1,
   "metadata": {},
   "outputs": [
    {
     "data": {
      "text/plain": [
       "['TONGS',\n",
       " 'DESSERT_SPOON',\n",
       " 'PEELER',\n",
       " 'POTATO_PEELER',\n",
       " 'KITCHEN_KNIFE',\n",
       " 'PIZZA_CUTTER',\n",
       " 'WOODEN_SPOON',\n",
       " 'DINNER_FORK',\n",
       " 'LADLE',\n",
       " 'FISH_SLICE',\n",
       " 'MASHER',\n",
       " 'SPATULA',\n",
       " 'TEA_SPOON',\n",
       " 'DINNER_KNIFE',\n",
       " 'BREAD_KNIFE',\n",
       " 'WHISK',\n",
       " 'BOTTLE_OPENER',\n",
       " 'SOUP_SPOON',\n",
       " 'CAN_OPENER',\n",
       " 'SERVING_SPOON']"
      ]
     },
     "execution_count": 1,
     "metadata": {},
     "output_type": "execute_result"
    }
   ],
   "source": [
    "import os\n",
    "\n",
    "folder_path = \"../data/Utensils-final/Raw\"\n",
    "categories = os.listdir(folder_path)\n",
    "\n",
    "categories"
   ]
  },
  {
   "cell_type": "code",
   "execution_count": 2,
   "metadata": {},
   "outputs": [
    {
     "name": "stdout",
     "output_type": "stream",
     "text": [
      "[('TEA_SPOON', 105),\n",
      " ('SERVING_SPOON', 90),\n",
      " ('FISH_SLICE', 82),\n",
      " ('WOODEN_SPOON', 62),\n",
      " ('DINNER_FORK', 59),\n",
      " ('LADLE', 54),\n",
      " ('SPATULA', 53),\n",
      " ('DINNER_KNIFE', 52),\n",
      " ('WHISK', 44),\n",
      " ('KITCHEN_KNIFE', 41),\n",
      " ('MASHER', 38),\n",
      " ('TONGS', 37),\n",
      " ('DESSERT_SPOON', 33),\n",
      " ('BOTTLE_OPENER', 30),\n",
      " ('SOUP_SPOON', 27),\n",
      " ('BREAD_KNIFE', 24),\n",
      " ('POTATO_PEELER', 23),\n",
      " ('CAN_OPENER', 19),\n",
      " ('PEELER', 18),\n",
      " ('PIZZA_CUTTER', 16)]\n"
     ]
    }
   ],
   "source": [
    "import os\n",
    "from pprint import pprint\n",
    "\n",
    "folder_path = \"../data/Utensils-final/Raw\"\n",
    "categories = os.listdir(folder_path)\n",
    "\n",
    "en_category_counts = {}\n",
    "for category in categories:\n",
    "    category_folder = os.path.join(folder_path, category)\n",
    "    en_category_counts[category] = len(os.listdir(category_folder))\n",
    "\n",
    "def print_sorted_dict(d: dict):\n",
    "    pprint(sorted(d.items(), key=lambda x: x[1], reverse=True))\n",
    "    \n",
    "print_sorted_dict(en_category_counts)"
   ]
  },
  {
   "cell_type": "code",
   "execution_count": 3,
   "metadata": {},
   "outputs": [],
   "source": [
    "en_to_pt_translations = translation_dict = {\n",
    "    \"TONGS\": \"PINÇAS\",\n",
    "    \"DESSERT_SPOON\": \"COLHER DE SOBREMESA\",\n",
    "    \"PEELER\": \"DESCASCADOR\",\n",
    "    \"POTATO_PEELER\": \"DESCASCADOR DE BATATAS\",\n",
    "    \"KITCHEN_KNIFE\": \"FACA DE COZINHA\",\n",
    "    \"PIZZA_CUTTER\": \"CORTADOR DE PIZZA\",\n",
    "    \"WOODEN_SPOON\": \"COLHER DE MADEIRA\",\n",
    "    \"DINNER_FORK\": \"GARFO DE JANTAR\",\n",
    "    \"LADLE\": \"CONCHA\",\n",
    "    \"FISH_SLICE\": \"ESPÁTULA DE PEIXE\",\n",
    "    \"MASHER\": \"AMASSADOR\",\n",
    "    \"SPATULA\": \"ESPÁTULA\",\n",
    "    \"TEA_SPOON\": \"COLHER DE CHÁ\",\n",
    "    \"DINNER_KNIFE\": \"FACA DE JANTAR\",\n",
    "    \"BREAD_KNIFE\": \"FACA DE PÃO\",\n",
    "    \"WHISK\": \"FUÊ\",\n",
    "    \"BOTTLE_OPENER\": \"ABRIDOR DE GARRAFAS\",\n",
    "    \"SOUP_SPOON\": \"COLHER DE SOPA\",\n",
    "    \"CAN_OPENER\": \"ABRIDOR DE LATAS\",\n",
    "    \"SERVING_SPOON\": \"COLHER DE SERVIR\",\n",
    "}"
   ]
  },
  {
   "cell_type": "code",
   "execution_count": 4,
   "metadata": {},
   "outputs": [
    {
     "name": "stdout",
     "output_type": "stream",
     "text": [
      "[('COLHER DE CHÁ', 105),\n",
      " ('COLHER DE SERVIR', 90),\n",
      " ('ESPÁTULA DE PEIXE', 82),\n",
      " ('COLHER DE MADEIRA', 62),\n",
      " ('GARFO DE JANTAR', 59),\n",
      " ('CONCHA', 54),\n",
      " ('ESPÁTULA', 53),\n",
      " ('FACA DE JANTAR', 52),\n",
      " ('FUÊ', 44),\n",
      " ('FACA DE COZINHA', 41),\n",
      " ('AMASSADOR', 38),\n",
      " ('PINÇAS', 37),\n",
      " ('COLHER DE SOBREMESA', 33),\n",
      " ('ABRIDOR DE GARRAFAS', 30),\n",
      " ('COLHER DE SOPA', 27),\n",
      " ('FACA DE PÃO', 24),\n",
      " ('DESCASCADOR DE BATATAS', 23),\n",
      " ('ABRIDOR DE LATAS', 19),\n",
      " ('DESCASCADOR', 18),\n",
      " ('CORTADOR DE PIZZA', 16)]\n"
     ]
    }
   ],
   "source": [
    "\n",
    "pt_category_counts = {}\n",
    "for en_category, count in en_category_counts.items():\n",
    "    pt_category_counts[en_to_pt_translations[en_category]] = count\n",
    "    \n",
    "print_sorted_dict(pt_category_counts)"
   ]
  },
  {
   "cell_type": "code",
   "execution_count": 5,
   "metadata": {},
   "outputs": [
    {
     "data": {
      "text/html": [
       "<table><tr><td>Categoria: PINÇAS (37)<br><img src='../data/Utensils-final/Raw/TONGS/tongsraw26.jpg' width='150'></td><td>Categoria: COLHER DE SOBREMESA (33)<br><img src='../data/Utensils-final/Raw/DESSERT_SPOON/dessertspoonraw8.JPG' width='150'></td><td>Categoria: DESCASCADOR (18)<br><img src='../data/Utensils-final/Raw/PEELER/peelerraw6.JPG' width='150'></td><td>Categoria: DESCASCADOR DE BATATAS (23)<br><img src='../data/Utensils-final/Raw/POTATO_PEELER/potatopeelerraw9.JPG' width='150'></td></tr><tr><td>Categoria: FACA DE COZINHA (41)<br><img src='../data/Utensils-final/Raw/KITCHEN_KNIFE/kitchenkniferaw32.jpg' width='150'></td><td>Categoria: CORTADOR DE PIZZA (16)<br><img src='../data/Utensils-final/Raw/PIZZA_CUTTER/pizzacutterraw14.jpg' width='150'></td><td>Categoria: COLHER DE MADEIRA (62)<br><img src='../data/Utensils-final/Raw/WOODEN_SPOON/woodenspoonraw4.JPG' width='150'></td><td>Categoria: GARFO DE JANTAR (59)<br><img src='../data/Utensils-final/Raw/DINNER_FORK/dinnerforkraw23.JPG' width='150'></td></tr><tr><td>Categoria: CONCHA (54)<br><img src='../data/Utensils-final/Raw/LADLE/ladleraw18.JPG' width='150'></td><td>Categoria: ESPÁTULA DE PEIXE (82)<br><img src='../data/Utensils-final/Raw/FISH_SLICE/fishsliceraw13.JPG' width='150'></td><td>Categoria: AMASSADOR (38)<br><img src='../data/Utensils-final/Raw/MASHER/masherraw25.jpg' width='150'></td><td>Categoria: ESPÁTULA (53)<br><img src='../data/Utensils-final/Raw/SPATULA/spatularaw1.JPG' width='150'></td></tr><tr><td>Categoria: COLHER DE CHÁ (105)<br><img src='../data/Utensils-final/Raw/TEA_SPOON/teaspoonraw93.JPG' width='150'></td><td>Categoria: FACA DE JANTAR (52)<br><img src='../data/Utensils-final/Raw/DINNER_KNIFE/dinnerkniferaw35.JPG' width='150'></td><td>Categoria: FACA DE PÃO (24)<br><img src='../data/Utensils-final/Raw/BREAD_KNIFE/breadkniferaw8.jpg' width='150'></td><td>Categoria: FUÊ (44)<br><img src='../data/Utensils-final/Raw/WHISK/whiskraw2.JPG' width='150'></td></tr><tr><td>Categoria: ABRIDOR DE GARRAFAS (30)<br><img src='../data/Utensils-final/Raw/BOTTLE_OPENER/bottleopenerraw23.jpg' width='150'></td><td>Categoria: COLHER DE SOPA (27)<br><img src='../data/Utensils-final/Raw/SOUP_SPOON/soupspoonraw21.jpg' width='150'></td><td>Categoria: ABRIDOR DE LATAS (19)<br><img src='../data/Utensils-final/Raw/CAN_OPENER/canopenerraw7.jpg' width='150'></td><td>Categoria: COLHER DE SERVIR (90)<br><img src='../data/Utensils-final/Raw/SERVING_SPOON/servingspoonraw47.jpg' width='150'></td></table>"
      ],
      "text/plain": [
       "<IPython.core.display.HTML object>"
      ]
     },
     "metadata": {},
     "output_type": "display_data"
    }
   ],
   "source": [
    "import os\n",
    "from IPython.display import display, Image\n",
    "from IPython.core.display import HTML\n",
    "\n",
    "folder_path = \"../data/Utensils-final/Raw\"\n",
    "categories = os.listdir(folder_path)\n",
    "\n",
    "html = \"<table>\"\n",
    "count = 0\n",
    "\n",
    "for category in categories:\n",
    "    category_folder = os.path.join(folder_path, category)\n",
    "    files = os.listdir(category_folder)\n",
    "    if len(files) > 0:\n",
    "        first_image_path = os.path.join(category_folder, files[0])\n",
    "        if count % 4 == 0:\n",
    "            if count > 0:\n",
    "                html += \"</tr>\"\n",
    "            html += \"<tr>\"\n",
    "        translated_category = en_to_pt_translations.get(category, category)\n",
    "        html += f\"<td>Categoria: {translated_category} ({len(files)})<br><img src='{first_image_path}' width='150'></td>\"\n",
    "        count += 1\n",
    "\n",
    "if count % 4 != 0:\n",
    "    html += \"</tr>\"\n",
    "\n",
    "html += \"</table>\"\n",
    "\n",
    "display(HTML(html))"
   ]
  },
  {
   "cell_type": "code",
   "execution_count": 6,
   "metadata": {},
   "outputs": [
    {
     "data": {
      "text/plain": [
       "['DESSERT_SPOON',\n",
       " 'KITCHEN_KNIFE',\n",
       " 'DINNER_FORK',\n",
       " 'LADLE',\n",
       " 'FISH_SLICE',\n",
       " 'DINNER_KNIFE',\n",
       " 'BREAD_KNIFE',\n",
       " 'BOTTLE_OPENER']"
      ]
     },
     "execution_count": 6,
     "metadata": {},
     "output_type": "execute_result"
    }
   ],
   "source": [
    "# Suggested categories:\n",
    "pt_suggested_categories = [\n",
    "    \"COLHER DE SOBREMESA\", \n",
    "    \"FACA DE COZINHA\",\n",
    "    \"FACA DE JANTAR\",\n",
    "    \"GARFO DE JANTAR\",\n",
    "    \"FACA DE PÃO\",\n",
    "    \"CONCHA\",\n",
    "    \"ESPÁTULA DE PEIXE\",\n",
    "    \"ABRIDOR DE GARRAFAS\",\n",
    "]\n",
    "\n",
    "en_suggested_categories = [k for k, v in en_to_pt_translations.items() if v in pt_suggested_categories]\n",
    "en_suggested_categories"
   ]
  },
  {
   "cell_type": "markdown",
   "metadata": {},
   "source": [
    "## 2. Cross validation: divide data in train / validation / test sets 60/20/20"
   ]
  },
  {
   "cell_type": "markdown",
   "metadata": {},
   "source": [
    "### 2.1. Create foldders (clone the data/ folder structure)"
   ]
  },
  {
   "cell_type": "code",
   "execution_count": 7,
   "metadata": {},
   "outputs": [],
   "source": [
    "import os\n",
    "import shutil\n",
    "\n",
    "# Define the source folder path\n",
    "source_folder = \"../data/Utensils-final/Raw\"\n",
    "\n",
    "# Define the destination folder paths\n",
    "train_folder = \"../data_train\"\n",
    "validation_folder = \"../data_validation\"\n",
    "test_folder = \"../data_test\"\n",
    "\n",
    "# Create the destination folders if they don't exist\n",
    "os.makedirs(train_folder, exist_ok=True)\n",
    "os.makedirs(validation_folder, exist_ok=True)\n",
    "os.makedirs(test_folder, exist_ok=True)\n",
    "\n",
    "# Copy the folder structure to the destination folders\n",
    "for root, dirs, files in os.walk(source_folder):\n",
    "    for dir in dirs:\n",
    "        if dir in pt_suggested_categories:\n",
    "            src_dir = os.path.join(root, dir)\n",
    "            dest_dir_train = os.path.join(train_folder, os.path.relpath(src_dir, source_folder))\n",
    "            dest_dir_validation = os.path.join(validation_folder, os.path.relpath(src_dir, source_folder))\n",
    "            dest_dir_test = os.path.join(test_folder, os.path.relpath(src_dir, source_folder))\n",
    "            os.makedirs(dest_dir_train, exist_ok=True)\n",
    "            os.makedirs(dest_dir_validation, exist_ok=True)\n",
    "            os.makedirs(dest_dir_test, exist_ok=True)\n"
   ]
  },
  {
   "cell_type": "markdown",
   "metadata": {},
   "source": [
    "### 2.2. Split data in train/validation/test sets and copy files to respective folders"
   ]
  },
  {
   "cell_type": "code",
   "execution_count": 9,
   "metadata": {},
   "outputs": [
    {
     "name": "stdout",
     "output_type": "stream",
     "text": [
      "Portuguese Category: COLHER DE SOBREMESA\n",
      "English Category: DESSERT_SPOON\n",
      "Train: 26 files (78.79%)\n",
      "Validation: 0 files (0.00%)\n",
      "Test: 7 files (21.21%)\n",
      "\n",
      "Portuguese Category: FACA DE COZINHA\n",
      "English Category: KITCHEN_KNIFE\n",
      "Train: 32 files (78.05%)\n",
      "Validation: 0 files (0.00%)\n",
      "Test: 9 files (21.95%)\n",
      "\n",
      "Portuguese Category: GARFO DE JANTAR\n",
      "English Category: DINNER_FORK\n",
      "Train: 47 files (79.66%)\n",
      "Validation: 0 files (0.00%)\n",
      "Test: 12 files (20.34%)\n",
      "\n",
      "Portuguese Category: CONCHA\n",
      "English Category: LADLE\n",
      "Train: 43 files (79.63%)\n",
      "Validation: 0 files (0.00%)\n",
      "Test: 11 files (20.37%)\n",
      "\n",
      "Portuguese Category: ESPÁTULA DE PEIXE\n",
      "English Category: FISH_SLICE\n",
      "Train: 65 files (79.27%)\n",
      "Validation: 0 files (0.00%)\n",
      "Test: 17 files (20.73%)\n",
      "\n",
      "Portuguese Category: FACA DE JANTAR\n",
      "English Category: DINNER_KNIFE\n",
      "Train: 41 files (78.85%)\n",
      "Validation: 0 files (0.00%)\n",
      "Test: 11 files (21.15%)\n",
      "\n",
      "Portuguese Category: FACA DE PÃO\n",
      "English Category: BREAD_KNIFE\n",
      "Train: 19 files (79.17%)\n",
      "Validation: 0 files (0.00%)\n",
      "Test: 5 files (20.83%)\n",
      "\n",
      "Portuguese Category: ABRIDOR DE GARRAFAS\n",
      "English Category: BOTTLE_OPENER\n",
      "Train: 24 files (80.00%)\n",
      "Validation: 0 files (0.00%)\n",
      "Test: 6 files (20.00%)\n",
      "\n"
     ]
    }
   ],
   "source": [
    "import os\n",
    "import random\n",
    "import shutil\n",
    "\n",
    "# Set the random seed for reproducibility\n",
    "random.seed(42)\n",
    "\n",
    "# Define the source folder path\n",
    "source_folder = \"../data/Utensils-final/Raw\"\n",
    "\n",
    "# Define the destination folder paths\n",
    "train_folder = \"../data_train\"\n",
    "validation_folder = \"../data_validation\"\n",
    "test_folder = \"../data_test\"\n",
    "\n",
    "# Create the destination folders if they don't exist\n",
    "os.makedirs(train_folder, exist_ok=True)\n",
    "os.makedirs(validation_folder, exist_ok=True)\n",
    "os.makedirs(test_folder, exist_ok=True)\n",
    "\n",
    "# Define the train/validation/test ratios\n",
    "train_ratio = 0.8\n",
    "validation_ratio = 0.0\n",
    "test_ratio = 0.2\n",
    "\n",
    "assert train_ratio + validation_ratio + test_ratio == 1\n",
    "\n",
    "# Get the list of categories for suggested categories\n",
    "categories = [\n",
    "    k for k, v in en_to_pt_translations.items() if v in pt_suggested_categories\n",
    "]\n",
    "\n",
    "# Iterate over each category\n",
    "for category in categories:\n",
    "    # category in pt-br\n",
    "    category_pt = en_to_pt_translations[category]\n",
    "    \n",
    "    # Get the category folder path\n",
    "    category_folder = os.path.join(source_folder, category)\n",
    "\n",
    "    # Get the list of files in the category folder\n",
    "    files = os.listdir(category_folder)\n",
    "\n",
    "    # Shuffle the files randomly\n",
    "    random.shuffle(files)\n",
    "\n",
    "    # Calculate the number of files for each set\n",
    "    num_files = len(files)\n",
    "    num_train = int(train_ratio * num_files)\n",
    "    num_validation = int(validation_ratio * num_files)\n",
    "    num_test = num_files - num_train - num_validation\n",
    "\n",
    "    # Split the files into train/validation/test sets\n",
    "    train_files = files[:num_train]\n",
    "    validation_files = files[num_train : num_train + num_validation]\n",
    "    test_files = files[num_train + num_validation :]\n",
    "\n",
    "    # Define the destination directories for each set\n",
    "    dest_dirs = [train_folder, validation_folder, test_folder]\n",
    "    dest_subdirs = [category_pt, category_pt, category_pt]\n",
    "\n",
    "    # Copy the files to the respective folders\n",
    "    for files_set, dest_dir, dest_subdir in zip(\n",
    "        [train_files, validation_files, test_files], dest_dirs, dest_subdirs\n",
    "    ):\n",
    "        for file in files_set:\n",
    "            src_path = os.path.join(category_folder, file)\n",
    "            dest_path = os.path.join(dest_dir, dest_subdir, file)\n",
    "            os.makedirs(os.path.dirname(dest_path), exist_ok=True)\n",
    "            shutil.copy(src_path, dest_path)\n",
    "\n",
    "    # Print the number of files in each division for the current category\n",
    "    translated_category = en_to_pt_translations.get(category, category)\n",
    "    print(f\"Portuguese Category: {translated_category}\")\n",
    "    print(f\"English Category: {category}\")\n",
    "    print(f\"Train: {num_train} files ({num_train/num_files*100:.2f}%)\")\n",
    "    print(f\"Validation: {num_validation} files ({num_validation/num_files*100:.2f}%)\")\n",
    "    print(f\"Test: {num_test} files ({num_test/num_files*100:.2f}%)\")\n",
    "    print()"
   ]
  },
  {
   "cell_type": "code",
   "execution_count": null,
   "metadata": {
    "vscode": {
     "languageId": "shellscript"
    }
   },
   "outputs": [],
   "source": []
  }
 ],
 "metadata": {
  "kernelspec": {
   "display_name": "hug",
   "language": "python",
   "name": "python3"
  },
  "language_info": {
   "codemirror_mode": {
    "name": "ipython",
    "version": 3
   },
   "file_extension": ".py",
   "mimetype": "text/x-python",
   "name": "python",
   "nbconvert_exporter": "python",
   "pygments_lexer": "ipython3",
   "version": "3.11.5"
  }
 },
 "nbformat": 4,
 "nbformat_minor": 2
}
